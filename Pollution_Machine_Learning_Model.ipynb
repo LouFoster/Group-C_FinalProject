{
 "cells": [
  {
   "cell_type": "code",
   "execution_count": 1,
   "id": "b66f5b55",
   "metadata": {
    "scrolled": true
   },
   "outputs": [
    {
     "data": {
      "text/html": [
       "<div>\n",
       "<style scoped>\n",
       "    .dataframe tbody tr th:only-of-type {\n",
       "        vertical-align: middle;\n",
       "    }\n",
       "\n",
       "    .dataframe tbody tr th {\n",
       "        vertical-align: top;\n",
       "    }\n",
       "\n",
       "    .dataframe thead th {\n",
       "        text-align: right;\n",
       "    }\n",
       "</style>\n",
       "<table border=\"1\" class=\"dataframe\">\n",
       "  <thead>\n",
       "    <tr style=\"text-align: right;\">\n",
       "      <th></th>\n",
       "      <th>city</th>\n",
       "      <th>date</th>\n",
       "      <th>aqi</th>\n",
       "      <th>so2</th>\n",
       "      <th>no2</th>\n",
       "      <th>pm10</th>\n",
       "      <th>pm2.5</th>\n",
       "      <th>o3</th>\n",
       "      <th>co</th>\n",
       "    </tr>\n",
       "  </thead>\n",
       "  <tbody>\n",
       "    <tr>\n",
       "      <th>0</th>\n",
       "      <td>Tokyo</td>\n",
       "      <td>1641013200</td>\n",
       "      <td>1</td>\n",
       "      <td>0.15</td>\n",
       "      <td>0.04</td>\n",
       "      <td>10.28</td>\n",
       "      <td>2.83</td>\n",
       "      <td>27.54</td>\n",
       "      <td>240.33</td>\n",
       "    </tr>\n",
       "    <tr>\n",
       "      <th>1</th>\n",
       "      <td>Tokyo</td>\n",
       "      <td>1641016800</td>\n",
       "      <td>1</td>\n",
       "      <td>0.15</td>\n",
       "      <td>0.04</td>\n",
       "      <td>10.63</td>\n",
       "      <td>2.88</td>\n",
       "      <td>27.89</td>\n",
       "      <td>236.99</td>\n",
       "    </tr>\n",
       "    <tr>\n",
       "      <th>2</th>\n",
       "      <td>Tokyo</td>\n",
       "      <td>1641020400</td>\n",
       "      <td>1</td>\n",
       "      <td>0.14</td>\n",
       "      <td>0.04</td>\n",
       "      <td>10.31</td>\n",
       "      <td>2.92</td>\n",
       "      <td>27.89</td>\n",
       "      <td>230.31</td>\n",
       "    </tr>\n",
       "    <tr>\n",
       "      <th>3</th>\n",
       "      <td>Tokyo</td>\n",
       "      <td>1641024000</td>\n",
       "      <td>1</td>\n",
       "      <td>0.14</td>\n",
       "      <td>0.03</td>\n",
       "      <td>9.62</td>\n",
       "      <td>2.93</td>\n",
       "      <td>28.25</td>\n",
       "      <td>230.31</td>\n",
       "    </tr>\n",
       "    <tr>\n",
       "      <th>4</th>\n",
       "      <td>Tokyo</td>\n",
       "      <td>1641027600</td>\n",
       "      <td>1</td>\n",
       "      <td>0.14</td>\n",
       "      <td>0.02</td>\n",
       "      <td>9.13</td>\n",
       "      <td>2.92</td>\n",
       "      <td>28.25</td>\n",
       "      <td>230.31</td>\n",
       "    </tr>\n",
       "    <tr>\n",
       "      <th>...</th>\n",
       "      <td>...</td>\n",
       "      <td>...</td>\n",
       "      <td>...</td>\n",
       "      <td>...</td>\n",
       "      <td>...</td>\n",
       "      <td>...</td>\n",
       "      <td>...</td>\n",
       "      <td>...</td>\n",
       "      <td>...</td>\n",
       "    </tr>\n",
       "    <tr>\n",
       "      <th>858695</th>\n",
       "      <td>Dalian</td>\n",
       "      <td>1672513200</td>\n",
       "      <td>1</td>\n",
       "      <td>0.04</td>\n",
       "      <td>0.06</td>\n",
       "      <td>1.98</td>\n",
       "      <td>1.29</td>\n",
       "      <td>19.49</td>\n",
       "      <td>283.72</td>\n",
       "    </tr>\n",
       "    <tr>\n",
       "      <th>858696</th>\n",
       "      <td>Dalian</td>\n",
       "      <td>1672516800</td>\n",
       "      <td>1</td>\n",
       "      <td>0.04</td>\n",
       "      <td>0.07</td>\n",
       "      <td>2.12</td>\n",
       "      <td>1.35</td>\n",
       "      <td>19.49</td>\n",
       "      <td>283.72</td>\n",
       "    </tr>\n",
       "    <tr>\n",
       "      <th>858697</th>\n",
       "      <td>Dalian</td>\n",
       "      <td>1672520400</td>\n",
       "      <td>1</td>\n",
       "      <td>0.05</td>\n",
       "      <td>0.08</td>\n",
       "      <td>2.17</td>\n",
       "      <td>1.38</td>\n",
       "      <td>19.49</td>\n",
       "      <td>283.72</td>\n",
       "    </tr>\n",
       "    <tr>\n",
       "      <th>858698</th>\n",
       "      <td>Dalian</td>\n",
       "      <td>1672524000</td>\n",
       "      <td>1</td>\n",
       "      <td>0.05</td>\n",
       "      <td>0.08</td>\n",
       "      <td>2.13</td>\n",
       "      <td>1.37</td>\n",
       "      <td>19.31</td>\n",
       "      <td>283.72</td>\n",
       "    </tr>\n",
       "    <tr>\n",
       "      <th>858699</th>\n",
       "      <td>Dalian</td>\n",
       "      <td>1672527600</td>\n",
       "      <td>1</td>\n",
       "      <td>0.05</td>\n",
       "      <td>0.08</td>\n",
       "      <td>2.02</td>\n",
       "      <td>1.32</td>\n",
       "      <td>19.31</td>\n",
       "      <td>283.72</td>\n",
       "    </tr>\n",
       "  </tbody>\n",
       "</table>\n",
       "<p>858700 rows × 9 columns</p>\n",
       "</div>"
      ],
      "text/plain": [
       "          city        date  aqi   so2   no2   pm10  pm2.5     o3      co\n",
       "0        Tokyo  1641013200    1  0.15  0.04  10.28   2.83  27.54  240.33\n",
       "1        Tokyo  1641016800    1  0.15  0.04  10.63   2.88  27.89  236.99\n",
       "2        Tokyo  1641020400    1  0.14  0.04  10.31   2.92  27.89  230.31\n",
       "3        Tokyo  1641024000    1  0.14  0.03   9.62   2.93  28.25  230.31\n",
       "4        Tokyo  1641027600    1  0.14  0.02   9.13   2.92  28.25  230.31\n",
       "...        ...         ...  ...   ...   ...    ...    ...    ...     ...\n",
       "858695  Dalian  1672513200    1  0.04  0.06   1.98   1.29  19.49  283.72\n",
       "858696  Dalian  1672516800    1  0.04  0.07   2.12   1.35  19.49  283.72\n",
       "858697  Dalian  1672520400    1  0.05  0.08   2.17   1.38  19.49  283.72\n",
       "858698  Dalian  1672524000    1  0.05  0.08   2.13   1.37  19.31  283.72\n",
       "858699  Dalian  1672527600    1  0.05  0.08   2.02   1.32  19.31  283.72\n",
       "\n",
       "[858700 rows x 9 columns]"
      ]
     },
     "execution_count": 1,
     "metadata": {},
     "output_type": "execute_result"
    }
   ],
   "source": [
    "# Import the dependencies.\n",
    "import pandas as pd\n",
    "import matplotlib.pyplot as plt\n",
    "import numpy as np\n",
    "from scipy.stats import linregress\n",
    "import requests\n",
    "import time\n",
    "from datetime import datetime\n",
    "\n",
    "# Import API key\n",
    "from config import weather_api_key\n",
    "\n",
    "#  Import and read the charity_data.csv.\n",
    "df = pd.read_csv(\"Pollution\")\n",
    "df"
   ]
  },
  {
   "cell_type": "code",
   "execution_count": 2,
   "id": "c5d862fb",
   "metadata": {},
   "outputs": [
    {
     "data": {
      "text/plain": [
       "city      object\n",
       "date       int64\n",
       "aqi        int64\n",
       "so2      float64\n",
       "no2      float64\n",
       "pm10     float64\n",
       "pm2.5    float64\n",
       "o3       float64\n",
       "co       float64\n",
       "dtype: object"
      ]
     },
     "execution_count": 2,
     "metadata": {},
     "output_type": "execute_result"
    }
   ],
   "source": [
    "# Check data types\n",
    "df.dtypes"
   ]
  },
  {
   "cell_type": "code",
   "execution_count": 3,
   "id": "e3b9b923",
   "metadata": {},
   "outputs": [
    {
     "data": {
      "text/plain": [
       "city     858700\n",
       "date     858700\n",
       "aqi      858700\n",
       "so2      858700\n",
       "no2      858700\n",
       "pm10     858700\n",
       "pm2.5    858700\n",
       "o3       858700\n",
       "co       858700\n",
       "dtype: int64"
      ]
     },
     "execution_count": 3,
     "metadata": {},
     "output_type": "execute_result"
    }
   ],
   "source": [
    "# Check for missing values\n",
    "df.count()"
   ]
  },
  {
   "cell_type": "code",
   "execution_count": 4,
   "id": "64bc3079",
   "metadata": {},
   "outputs": [
    {
     "data": {
      "text/plain": [
       "array([1, 2, 3, 4], dtype=int64)"
      ]
     },
     "execution_count": 4,
     "metadata": {},
     "output_type": "execute_result"
    }
   ],
   "source": [
    "# Check \"aqi\" (air quality) values unique values\n",
    "df['aqi'].unique()"
   ]
  },
  {
   "cell_type": "code",
   "execution_count": 5,
   "id": "10abdc08",
   "metadata": {
    "scrolled": true
   },
   "outputs": [
    {
     "data": {
      "text/plain": [
       "(array([794000.,      0.,      0.,  61200.,      0.,      0.,   2600.,\n",
       "             0.,      0.,    900.]),\n",
       " array([1. , 1.3, 1.6, 1.9, 2.2, 2.5, 2.8, 3.1, 3.4, 3.7, 4. ]),\n",
       " <BarContainer object of 10 artists>)"
      ]
     },
     "execution_count": 5,
     "metadata": {},
     "output_type": "execute_result"
    },
    {
     "data": {
      "image/png": "[encoded data removed]",
      "text/plain": [
       "<Figure size 640x480 with 1 Axes>"
      ]
     },
     "metadata": {},
     "output_type": "display_data"
    }
   ],
   "source": [
    "# Check distribution of \"aqi\"\n",
    "plt.hist(df.aqi)"
   ]
  },
  {
   "cell_type": "code",
   "execution_count": 6,
   "id": "f5c2e363",
   "metadata": {},
   "outputs": [],
   "source": [
    "# Change data type for \"aqi\"\n",
    "df['aqi'] = df['aqi'].astype('object')"
   ]
  },
  {
   "cell_type": "code",
   "execution_count": 7,
   "id": "08124ac5",
   "metadata": {},
   "outputs": [],
   "source": [
    "# Change \"aqi\" value names\n",
    "df['aqi'] = df['aqi'].replace([1], 'one')"
   ]
  },
  {
   "cell_type": "code",
   "execution_count": 8,
   "id": "50096695",
   "metadata": {},
   "outputs": [],
   "source": [
    "# Change \"aqi\" value names\n",
    "df['aqi'] = df['aqi'].replace([2], 'two')"
   ]
  },
  {
   "cell_type": "code",
   "execution_count": 9,
   "id": "887cca18",
   "metadata": {},
   "outputs": [],
   "source": [
    "# Change \"aqi\" value names\n",
    "df['aqi'] = df['aqi'].replace([3], 'three') "
   ]
  },
  {
   "cell_type": "code",
   "execution_count": 10,
   "id": "6306a3ac",
   "metadata": {},
   "outputs": [],
   "source": [
    "# Change \"aqi\" value names\n",
    "df['aqi'] = df['aqi'].replace([4], 'four')"
   ]
  },
  {
   "cell_type": "code",
   "execution_count": 11,
   "id": "6eaccf96",
   "metadata": {},
   "outputs": [
    {
     "data": {
      "text/plain": [
       "array(['one', 'two', 'three', 'four'], dtype=object)"
      ]
     },
     "execution_count": 11,
     "metadata": {},
     "output_type": "execute_result"
    }
   ],
   "source": [
    "df['aqi'].unique()"
   ]
  },
  {
   "cell_type": "code",
   "execution_count": 12,
   "id": "d0b2e0f8",
   "metadata": {},
   "outputs": [
    {
     "data": {
      "text/plain": [
       "city      object\n",
       "date       int64\n",
       "aqi       object\n",
       "so2      float64\n",
       "no2      float64\n",
       "pm10     float64\n",
       "pm2.5    float64\n",
       "o3       float64\n",
       "co       float64\n",
       "dtype: object"
      ]
     },
     "execution_count": 12,
     "metadata": {},
     "output_type": "execute_result"
    }
   ],
   "source": [
    "# Check data type changes\n",
    "df.dtypes"
   ]
  },
  {
   "cell_type": "code",
   "execution_count": 13,
   "id": "190b3ef8",
   "metadata": {},
   "outputs": [],
   "source": [
    "# Create features\n",
    "X = pd.get_dummies(df.drop(columns=['aqi']))\n",
    "\n",
    "\n",
    "# Create our target\n",
    "y = pd.DataFrame(df['aqi'])"
   ]
  },
  {
   "cell_type": "code",
   "execution_count": 14,
   "id": "2a18b9c2",
   "metadata": {},
   "outputs": [
    {
     "data": {
      "text/html": [
       "<div>\n",
       "<style scoped>\n",
       "    .dataframe tbody tr th:only-of-type {\n",
       "        vertical-align: middle;\n",
       "    }\n",
       "\n",
       "    .dataframe tbody tr th {\n",
       "        vertical-align: top;\n",
       "    }\n",
       "\n",
       "    .dataframe thead th {\n",
       "        text-align: right;\n",
       "    }\n",
       "</style>\n",
       "<table border=\"1\" class=\"dataframe\">\n",
       "  <thead>\n",
       "    <tr style=\"text-align: right;\">\n",
       "      <th></th>\n",
       "      <th>date</th>\n",
       "      <th>so2</th>\n",
       "      <th>no2</th>\n",
       "      <th>pm10</th>\n",
       "      <th>pm2.5</th>\n",
       "      <th>o3</th>\n",
       "      <th>co</th>\n",
       "      <th>city_Abidjan</th>\n",
       "      <th>city_Addis Abeba</th>\n",
       "      <th>city_Ahmadabad</th>\n",
       "      <th>...</th>\n",
       "      <th>city_Surat</th>\n",
       "      <th>city_Sydney</th>\n",
       "      <th>city_Taipei</th>\n",
       "      <th>city_Taiyuan</th>\n",
       "      <th>city_Tangshan</th>\n",
       "      <th>city_Tianjin</th>\n",
       "      <th>city_Tokyo</th>\n",
       "      <th>city_Toronto</th>\n",
       "      <th>city_Wuhan</th>\n",
       "      <th>city_Xian</th>\n",
       "    </tr>\n",
       "  </thead>\n",
       "  <tbody>\n",
       "    <tr>\n",
       "      <th>count</th>\n",
       "      <td>8.587000e+05</td>\n",
       "      <td>858700.000000</td>\n",
       "      <td>858700.000000</td>\n",
       "      <td>858700.000000</td>\n",
       "      <td>858700.000000</td>\n",
       "      <td>858700.000000</td>\n",
       "      <td>858700.00000</td>\n",
       "      <td>858700.000000</td>\n",
       "      <td>858700.000000</td>\n",
       "      <td>858700.000000</td>\n",
       "      <td>...</td>\n",
       "      <td>858700.000000</td>\n",
       "      <td>858700.000000</td>\n",
       "      <td>858700.000000</td>\n",
       "      <td>858700.000000</td>\n",
       "      <td>858700.000000</td>\n",
       "      <td>858700.000000</td>\n",
       "      <td>858700.000000</td>\n",
       "      <td>858700.000000</td>\n",
       "      <td>858700.000000</td>\n",
       "      <td>858700.000000</td>\n",
       "    </tr>\n",
       "    <tr>\n",
       "      <th>mean</th>\n",
       "      <td>1.656712e+09</td>\n",
       "      <td>0.129024</td>\n",
       "      <td>0.045475</td>\n",
       "      <td>8.562924</td>\n",
       "      <td>3.590365</td>\n",
       "      <td>37.280363</td>\n",
       "      <td>295.54324</td>\n",
       "      <td>0.010000</td>\n",
       "      <td>0.010000</td>\n",
       "      <td>0.010000</td>\n",
       "      <td>...</td>\n",
       "      <td>0.010000</td>\n",
       "      <td>0.010000</td>\n",
       "      <td>0.010000</td>\n",
       "      <td>0.010000</td>\n",
       "      <td>0.010000</td>\n",
       "      <td>0.010000</td>\n",
       "      <td>0.010000</td>\n",
       "      <td>0.010000</td>\n",
       "      <td>0.010000</td>\n",
       "      <td>0.010000</td>\n",
       "    </tr>\n",
       "    <tr>\n",
       "      <th>std</th>\n",
       "      <td>9.042442e+06</td>\n",
       "      <td>0.081527</td>\n",
       "      <td>0.019688</td>\n",
       "      <td>5.997642</td>\n",
       "      <td>2.821321</td>\n",
       "      <td>18.314992</td>\n",
       "      <td>44.32683</td>\n",
       "      <td>0.099499</td>\n",
       "      <td>0.099499</td>\n",
       "      <td>0.099499</td>\n",
       "      <td>...</td>\n",
       "      <td>0.099499</td>\n",
       "      <td>0.099499</td>\n",
       "      <td>0.099499</td>\n",
       "      <td>0.099499</td>\n",
       "      <td>0.099499</td>\n",
       "      <td>0.099499</td>\n",
       "      <td>0.099499</td>\n",
       "      <td>0.099499</td>\n",
       "      <td>0.099499</td>\n",
       "      <td>0.099499</td>\n",
       "    </tr>\n",
       "    <tr>\n",
       "      <th>min</th>\n",
       "      <td>1.641013e+09</td>\n",
       "      <td>0.020000</td>\n",
       "      <td>0.010000</td>\n",
       "      <td>0.550000</td>\n",
       "      <td>0.500000</td>\n",
       "      <td>9.570000</td>\n",
       "      <td>198.60000</td>\n",
       "      <td>0.000000</td>\n",
       "      <td>0.000000</td>\n",
       "      <td>0.000000</td>\n",
       "      <td>...</td>\n",
       "      <td>0.000000</td>\n",
       "      <td>0.000000</td>\n",
       "      <td>0.000000</td>\n",
       "      <td>0.000000</td>\n",
       "      <td>0.000000</td>\n",
       "      <td>0.000000</td>\n",
       "      <td>0.000000</td>\n",
       "      <td>0.000000</td>\n",
       "      <td>0.000000</td>\n",
       "      <td>0.000000</td>\n",
       "    </tr>\n",
       "    <tr>\n",
       "      <th>25%</th>\n",
       "      <td>1.648912e+09</td>\n",
       "      <td>0.060000</td>\n",
       "      <td>0.030000</td>\n",
       "      <td>3.950000</td>\n",
       "      <td>1.930000</td>\n",
       "      <td>22.710000</td>\n",
       "      <td>260.35000</td>\n",
       "      <td>0.000000</td>\n",
       "      <td>0.000000</td>\n",
       "      <td>0.000000</td>\n",
       "      <td>...</td>\n",
       "      <td>0.000000</td>\n",
       "      <td>0.000000</td>\n",
       "      <td>0.000000</td>\n",
       "      <td>0.000000</td>\n",
       "      <td>0.000000</td>\n",
       "      <td>0.000000</td>\n",
       "      <td>0.000000</td>\n",
       "      <td>0.000000</td>\n",
       "      <td>0.000000</td>\n",
       "      <td>0.000000</td>\n",
       "    </tr>\n",
       "    <tr>\n",
       "      <th>50%</th>\n",
       "      <td>1.656641e+09</td>\n",
       "      <td>0.110000</td>\n",
       "      <td>0.040000</td>\n",
       "      <td>7.420000</td>\n",
       "      <td>2.950000</td>\n",
       "      <td>31.470000</td>\n",
       "      <td>287.06000</td>\n",
       "      <td>0.000000</td>\n",
       "      <td>0.000000</td>\n",
       "      <td>0.000000</td>\n",
       "      <td>...</td>\n",
       "      <td>0.000000</td>\n",
       "      <td>0.000000</td>\n",
       "      <td>0.000000</td>\n",
       "      <td>0.000000</td>\n",
       "      <td>0.000000</td>\n",
       "      <td>0.000000</td>\n",
       "      <td>0.000000</td>\n",
       "      <td>0.000000</td>\n",
       "      <td>0.000000</td>\n",
       "      <td>0.000000</td>\n",
       "    </tr>\n",
       "    <tr>\n",
       "      <th>75%</th>\n",
       "      <td>1.664543e+09</td>\n",
       "      <td>0.190000</td>\n",
       "      <td>0.050000</td>\n",
       "      <td>11.790000</td>\n",
       "      <td>4.340000</td>\n",
       "      <td>51.500000</td>\n",
       "      <td>323.77000</td>\n",
       "      <td>0.000000</td>\n",
       "      <td>0.000000</td>\n",
       "      <td>0.000000</td>\n",
       "      <td>...</td>\n",
       "      <td>0.000000</td>\n",
       "      <td>0.000000</td>\n",
       "      <td>0.000000</td>\n",
       "      <td>0.000000</td>\n",
       "      <td>0.000000</td>\n",
       "      <td>0.000000</td>\n",
       "      <td>0.000000</td>\n",
       "      <td>0.000000</td>\n",
       "      <td>0.000000</td>\n",
       "      <td>0.000000</td>\n",
       "    </tr>\n",
       "    <tr>\n",
       "      <th>max</th>\n",
       "      <td>1.672528e+09</td>\n",
       "      <td>0.480000</td>\n",
       "      <td>0.240000</td>\n",
       "      <td>48.890000</td>\n",
       "      <td>33.310000</td>\n",
       "      <td>121.590000</td>\n",
       "      <td>473.98000</td>\n",
       "      <td>1.000000</td>\n",
       "      <td>1.000000</td>\n",
       "      <td>1.000000</td>\n",
       "      <td>...</td>\n",
       "      <td>1.000000</td>\n",
       "      <td>1.000000</td>\n",
       "      <td>1.000000</td>\n",
       "      <td>1.000000</td>\n",
       "      <td>1.000000</td>\n",
       "      <td>1.000000</td>\n",
       "      <td>1.000000</td>\n",
       "      <td>1.000000</td>\n",
       "      <td>1.000000</td>\n",
       "      <td>1.000000</td>\n",
       "    </tr>\n",
       "  </tbody>\n",
       "</table>\n",
       "<p>8 rows × 107 columns</p>\n",
       "</div>"
      ],
      "text/plain": [
       "               date            so2            no2           pm10  \\\n",
       "count  8.587000e+05  858700.000000  858700.000000  858700.000000   \n",
       "mean   1.656712e+09       0.129024       0.045475       8.562924   \n",
       "std    9.042442e+06       0.081527       0.019688       5.997642   \n",
       "min    1.641013e+09       0.020000       0.010000       0.550000   \n",
       "25%    1.648912e+09       0.060000       0.030000       3.950000   \n",
       "50%    1.656641e+09       0.110000       0.040000       7.420000   \n",
       "75%    1.664543e+09       0.190000       0.050000      11.790000   \n",
       "max    1.672528e+09       0.480000       0.240000      48.890000   \n",
       "\n",
       "               pm2.5             o3            co   city_Abidjan  \\\n",
       "count  858700.000000  858700.000000  858700.00000  858700.000000   \n",
       "mean        3.590365      37.280363     295.54324       0.010000   \n",
       "std         2.821321      18.314992      44.32683       0.099499   \n",
       "min         0.500000       9.570000     198.60000       0.000000   \n",
       "25%         1.930000      22.710000     260.35000       0.000000   \n",
       "50%         2.950000      31.470000     287.06000       0.000000   \n",
       "75%         4.340000      51.500000     323.77000       0.000000   \n",
       "max        33.310000     121.590000     473.98000       1.000000   \n",
       "\n",
       "       city_Addis Abeba  city_Ahmadabad  ...     city_Surat    city_Sydney  \\\n",
       "count     858700.000000   858700.000000  ...  858700.000000  858700.000000   \n",
       "mean           0.010000        0.010000  ...       0.010000       0.010000   \n",
       "std            0.099499        0.099499  ...       0.099499       0.099499   \n",
       "min            0.000000        0.000000  ...       0.000000       0.000000   \n",
       "25%            0.000000        0.000000  ...       0.000000       0.000000   \n",
       "50%            0.000000        0.000000  ...       0.000000       0.000000   \n",
       "75%            0.000000        0.000000  ...       0.000000       0.000000   \n",
       "max            1.000000        1.000000  ...       1.000000       1.000000   \n",
       "\n",
       "         city_Taipei   city_Taiyuan  city_Tangshan   city_Tianjin  \\\n",
       "count  858700.000000  858700.000000  858700.000000  858700.000000   \n",
       "mean        0.010000       0.010000       0.010000       0.010000   \n",
       "std         0.099499       0.099499       0.099499       0.099499   \n",
       "min         0.000000       0.000000       0.000000       0.000000   \n",
       "25%         0.000000       0.000000       0.000000       0.000000   \n",
       "50%         0.000000       0.000000       0.000000       0.000000   \n",
       "75%         0.000000       0.000000       0.000000       0.000000   \n",
       "max         1.000000       1.000000       1.000000       1.000000   \n",
       "\n",
       "          city_Tokyo   city_Toronto     city_Wuhan      city_Xian  \n",
       "count  858700.000000  858700.000000  858700.000000  858700.000000  \n",
       "mean        0.010000       0.010000       0.010000       0.010000  \n",
       "std         0.099499       0.099499       0.099499       0.099499  \n",
       "min         0.000000       0.000000       0.000000       0.000000  \n",
       "25%         0.000000       0.000000       0.000000       0.000000  \n",
       "50%         0.000000       0.000000       0.000000       0.000000  \n",
       "75%         0.000000       0.000000       0.000000       0.000000  \n",
       "max         1.000000       1.000000       1.000000       1.000000  \n",
       "\n",
       "[8 rows x 107 columns]"
      ]
     },
     "execution_count": 14,
     "metadata": {},
     "output_type": "execute_result"
    }
   ],
   "source": [
    "X.describe()"
   ]
  },
  {
   "cell_type": "code",
   "execution_count": 15,
   "id": "b43ece0b",
   "metadata": {},
   "outputs": [
    {
     "data": {
      "text/plain": [
       "one      794000\n",
       "two       61200\n",
       "three      2600\n",
       "four        900\n",
       "Name: aqi, dtype: int64"
      ]
     },
     "execution_count": 15,
     "metadata": {},
     "output_type": "execute_result"
    }
   ],
   "source": [
    "# Check the balance of our target values\n",
    "y['aqi'].value_counts()"
   ]
  },
  {
   "cell_type": "code",
   "execution_count": 16,
   "id": "c20533bd",
   "metadata": {},
   "outputs": [
    {
     "data": {
      "text/plain": [
       "(644025, 1)"
      ]
     },
     "execution_count": 16,
     "metadata": {},
     "output_type": "execute_result"
    }
   ],
   "source": [
    "from sklearn.model_selection import train_test_split\n",
    "\n",
    "X_train, X_test, y_train, y_test = train_test_split(X, y, random_state = 1 , stratify = y)\n",
    "y_train.shape"
   ]
  },
  {
   "cell_type": "code",
   "execution_count": 17,
   "id": "4a1699f6",
   "metadata": {},
   "outputs": [
    {
     "name": "stderr",
     "output_type": "stream",
     "text": [
      "C:\\Users\\chris\\anaconda3\\envs\\mlenv\\lib\\site-packages\\sklearn\\utils\\validation.py:993: DataConversionWarning: A column-vector y was passed when a 1d array was expected. Please change the shape of y to (n_samples, ), for example using ravel().\n",
      "  y = column_or_1d(y, warn=True)\n"
     ]
    },
    {
     "data": {
      "text/plain": [
       "LogisticRegression(random_state=1)"
      ]
     },
     "execution_count": 17,
     "metadata": {},
     "output_type": "execute_result"
    }
   ],
   "source": [
    "# Train the Logistic Regression model using the resampled data\n",
    "from sklearn.linear_model import LogisticRegression\n",
    "\n",
    "model = LogisticRegression(solver='lbfgs', random_state=1)\n",
    "model.fit(X, y)"
   ]
  },
  {
   "cell_type": "code",
   "execution_count": 18,
   "id": "a0bf09d1",
   "metadata": {},
   "outputs": [
    {
     "data": {
      "text/plain": [
       "0.25"
      ]
     },
     "execution_count": 18,
     "metadata": {},
     "output_type": "execute_result"
    }
   ],
   "source": [
    "# Calculated the balanced accuracy score\n",
    "from sklearn.metrics import balanced_accuracy_score\n",
    "\n",
    "balanced_accuracy_score(y_test, model.predict(X_test))"
   ]
  },
  {
   "cell_type": "code",
   "execution_count": 19,
   "id": "7193d248",
   "metadata": {},
   "outputs": [
    {
     "data": {
      "text/plain": [
       "array([[     0,    225,      0,      0],\n",
       "       [     0, 198500,      0,      0],\n",
       "       [     0,    650,      0,      0],\n",
       "       [     0,  15300,      0,      0]], dtype=int64)"
      ]
     },
     "execution_count": 19,
     "metadata": {},
     "output_type": "execute_result"
    }
   ],
   "source": [
    "# Display the confusion matrix\n",
    "from sklearn.metrics import confusion_matrix\n",
    "\n",
    "y_pred = model.predict(X_test)\n",
    "confusion_matrix(y_test, y_pred)"
   ]
  },
  {
   "cell_type": "code",
   "execution_count": 20,
   "id": "930df3c9",
   "metadata": {},
   "outputs": [
    {
     "name": "stderr",
     "output_type": "stream",
     "text": [
      "C:\\Users\\chris\\anaconda3\\envs\\mlenv\\lib\\site-packages\\sklearn\\metrics\\_classification.py:1318: UndefinedMetricWarning: Precision and F-score are ill-defined and being set to 0.0 in labels with no predicted samples. Use `zero_division` parameter to control this behavior.\n",
      "  _warn_prf(average, modifier, msg_start, len(result))\n"
     ]
    },
    {
     "name": "stdout",
     "output_type": "stream",
     "text": [
      "                   pre       rec       spe        f1       geo       iba       sup\n",
      "\n",
      "       four       0.00      0.00      1.00      0.00      0.00      0.00       225\n",
      "        one       0.92      1.00      0.00      0.96      0.00      0.00    198500\n",
      "      three       0.00      0.00      1.00      0.00      0.00      0.00       650\n",
      "        two       0.00      0.00      1.00      0.00      0.00      0.00     15300\n",
      "\n",
      "avg / total       0.85      0.92      0.08      0.89      0.00      0.00    214675\n",
      "\n"
     ]
    }
   ],
   "source": [
    "# Print the imbalanced classification report\n",
    "from imblearn.metrics import classification_report_imbalanced\n",
    "\n",
    "print(classification_report_imbalanced(y_test, y_pred))"
   ]
  },
  {
   "cell_type": "code",
   "execution_count": null,
   "id": "b9f739d2",
   "metadata": {},
   "outputs": [],
   "source": []
  }
 ],
 "metadata": {
  "kernelspec": {
   "display_name": "mlenv",
   "language": "python",
   "name": "mlenv"
  },
  "language_info": {
   "codemirror_mode": {
    "name": "ipython",
    "version": 3
   },
   "file_extension": ".py",
   "mimetype": "text/x-python",
   "name": "python",
   "nbconvert_exporter": "python",
   "pygments_lexer": "ipython3",
   "version": "3.7.13"
  }
 },
 "nbformat": 4,
 "nbformat_minor": 5
}
